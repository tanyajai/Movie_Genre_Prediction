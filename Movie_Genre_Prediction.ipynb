{
  "nbformat": 4,
  "nbformat_minor": 0,
  "metadata": {
    "kernelspec": {
      "display_name": "Python 3",
      "language": "python",
      "name": "python3"
    },
    "language_info": {
      "codemirror_mode": {
        "name": "ipython",
        "version": 3
      },
      "file_extension": ".py",
      "mimetype": "text/x-python",
      "name": "python",
      "nbconvert_exporter": "python",
      "pygments_lexer": "ipython3",
      "version": "3.6.9"
    },
    "colab": {
      "name": "dic_test.ipynb",
      "provenance": [],
      "collapsed_sections": []
    }
  },
  "cells": [
    {
      "cell_type": "markdown",
      "metadata": {
        "id": "Kt0uy8UChe0P",
        "colab_type": "text"
      },
      "source": [
        "# **Setup Pyspark on Colab**"
      ]
    },
    {
      "cell_type": "code",
      "metadata": {
        "id": "GcXMtdvtYj0H",
        "colab_type": "code",
        "colab": {}
      },
      "source": [
        "# !apt-get install openjdk-8-jdk-headless -qq > /dev/null\n",
        "# !wget -q https://www-us.apache.org/dist/spark/spark-2.4.5/spark-2.4.5-bin-hadoop2.7.tgz\n",
        "# !tar xf spark-2.4.5-bin-hadoop2.7.tgz\n",
        "# !pip install -q findspark"
      ],
      "execution_count": 0,
      "outputs": []
    },
    {
      "cell_type": "code",
      "metadata": {
        "id": "hXOWVrGUYmsv",
        "colab_type": "code",
        "colab": {}
      },
      "source": [
        "# import os\n",
        "# os.environ[\"JAVA_HOME\"] = \"/usr/lib/jvm/java-8-openjdk-amd64\"\n",
        "# os.environ[\"SPARK_HOME\"] = \"/content/spark-2.4.5-bin-hadoop2.7\""
      ],
      "execution_count": 0,
      "outputs": []
    },
    {
      "cell_type": "markdown",
      "metadata": {
        "id": "cJtGgxPuhnQ0",
        "colab_type": "text"
      },
      "source": [
        "# **Importing modules**"
      ]
    },
    {
      "cell_type": "code",
      "metadata": {
        "id": "Wo3GMFUZYf9w",
        "colab_type": "code",
        "colab": {}
      },
      "source": [
        "import pandas as pd\n",
        "import findspark\n",
        "#findspark.init('/content/spark-2.4.5-bin-hadoop2.7')\n",
        "findspark.init('/home/cse587/spark-2.4.0-bin-hadoop2.7')\n",
        "import pyspark\n",
        "from pyspark import *\n",
        "from pyspark.sql import *\n",
        "from pyspark.sql.types import *\n",
        "import pyspark.sql.functions as F\n",
        "from pyspark.sql.window import Window as W\n",
        "from pyspark.sql.functions import (col, max as max_, struct, monotonically_increasing_id,concat_ws,udf,lower, regexp_replace)\n",
        "from pyspark.ml.feature import StringIndexer, VectorIndexer, Tokenizer, StopWordsRemover,CountVectorizer,Word2Vec\n",
        "from pyspark.ml import Pipeline\n",
        "from pyspark.ml.classification import LogisticRegression\n",
        "from pyspark.ml.evaluation import MulticlassClassificationEvaluator\n",
        "from pyspark.ml.feature import HashingTF as MLHashingTF\n",
        "from pyspark.ml.feature import IDF as MLIDF \n",
        "from functools import reduce"
      ],
      "execution_count": 0,
      "outputs": []
    },
    {
      "cell_type": "code",
      "metadata": {
        "id": "WEOibGiJYf9y",
        "colab_type": "code",
        "colab": {}
      },
      "source": [
        "spark=SparkSession\\\n",
        "  .builder\\\n",
        "  .appName(\"Project3\")\\\n",
        "  .config(\"spark.some.config.option\", \"some-value\")\\\n",
        "  .getOrCreate()\n",
        "  \n",
        "sqlContext=SQLContext(spark)"
      ],
      "execution_count": 0,
      "outputs": []
    },
    {
      "cell_type": "markdown",
      "metadata": {
        "id": "r-8IzqiZht_h",
        "colab_type": "text"
      },
      "source": [
        "# **Importing Data**"
      ]
    },
    {
      "cell_type": "code",
      "metadata": {
        "id": "orKTY3J5Yf92",
        "colab_type": "code",
        "colab": {}
      },
      "source": [
        "# train_data=pd.read_csv(\"/content/train.csv\")\n",
        "# mapper_data=pd.read_csv(\"/content/mapping.csv\")\n",
        "# test_data=pd.read_csv(\"/content/test.csv\")\n",
        "\n",
        "train_data=pd.read_csv(\"/home/cse587/Downloads/assignment3/train.csv\")\n",
        "mapper_data=pd.read_csv(\"/home/cse587/Downloads/assignment3/mapping.csv\")\n",
        "test_data=pd.read_csv(\"/home/cse587/Downloads/assignment3/test.csv\")"
      ],
      "execution_count": 0,
      "outputs": []
    },
    {
      "cell_type": "code",
      "metadata": {
        "id": "rxmX8y78Yf94",
        "colab_type": "code",
        "colab": {}
      },
      "source": [
        "movie_train=spark.createDataFrame(train_data,schema=None,verifySchema=True)\n",
        "movie_map=spark.createDataFrame(mapper_data)\n",
        "movie_test=spark.createDataFrame(test_data)"
      ],
      "execution_count": 0,
      "outputs": []
    },
    {
      "cell_type": "code",
      "metadata": {
        "id": "Q4BC-qUFYf96",
        "colab_type": "code",
        "outputId": "fea7830e-c0f3-402e-f418-f56d7bee3384",
        "colab": {
          "base_uri": "https://localhost:8080/",
          "height": 121
        }
      },
      "source": [
        "movie_train.printSchema()"
      ],
      "execution_count": 20,
      "outputs": [
        {
          "output_type": "stream",
          "text": [
            "root\n",
            " |-- movie_id: long (nullable = true)\n",
            " |-- movie_name: string (nullable = true)\n",
            " |-- plot: string (nullable = true)\n",
            " |-- genre: string (nullable = true)\n",
            "\n"
          ],
          "name": "stdout"
        }
      ]
    },
    {
      "cell_type": "markdown",
      "metadata": {
        "id": "S_S7ne5hhz6o",
        "colab_type": "text"
      },
      "source": [
        "# **Mapping genres into a list**"
      ]
    },
    {
      "cell_type": "code",
      "metadata": {
        "scrolled": true,
        "id": "cbnpRU4BYf98",
        "colab_type": "code",
        "colab": {}
      },
      "source": [
        "# create list of all genres in train\n",
        "genre_list=[]\n",
        "for i in movie_train.select('genre').collect():\n",
        "    genre_list.append(i['genre'])\n",
        "\n",
        "# create list of distinct genres in map\n",
        "map_list=[]\n",
        "for i in movie_map.select('0').collect():\n",
        "    map_list.append(i['0'])\n",
        "\n",
        "# mapping 0's and 1's to genres \n",
        "final=[]\n",
        "for i in range(len(genre_list)):\n",
        "    final.append([])\n",
        "    temp=genre_list[i].split(',')\n",
        "    for j in range(len(temp)-1):\n",
        "        final[i].append(temp[j][2:-1])\n",
        "    final[i].append(temp[-1][2:-2])\n",
        "\n",
        "pred_list = []\n",
        "for i in range(len(final)):\n",
        "    pred_list.append([])\n",
        "    for j in range(len(map_list)):\n",
        "        if map_list[j] in final[i]:\n",
        "            pred_list[i].append(1)\n",
        "        else:\n",
        "            pred_list[i].append(0)"
      ],
      "execution_count": 0,
      "outputs": []
    },
    {
      "cell_type": "code",
      "metadata": {
        "id": "j96KQSnn4DE0",
        "colab_type": "code",
        "colab": {}
      },
      "source": [
        "names=[]\n",
        "for i in map_list:\n",
        "  string=str(i)\n",
        "  names.append(string)"
      ],
      "execution_count": 0,
      "outputs": []
    },
    {
      "cell_type": "markdown",
      "metadata": {
        "id": "cigdJPvi4xyt",
        "colab_type": "text"
      },
      "source": [
        "# **Separating Mappings to 20 different Columns**"
      ]
    },
    {
      "cell_type": "code",
      "metadata": {
        "id": "QRUWlChJKfJ1",
        "colab_type": "code",
        "colab": {}
      },
      "source": [
        "genres=[]\n",
        "for i in map_list:\n",
        " genres.append(StructField(i, IntegerType()))\n",
        "cSchema = StructType(genres)\n",
        "test_list = pred_list\n",
        "temp = spark.createDataFrame(test_list,schema=cSchema) "
      ],
      "execution_count": 0,
      "outputs": []
    },
    {
      "cell_type": "code",
      "metadata": {
        "id": "-M3rfHc4LQ2s",
        "colab_type": "code",
        "outputId": "05378f77-11a8-43ee-d2f8-7fcfba32f915",
        "colab": {
          "base_uri": "https://localhost:8080/",
          "height": 488
        }
      },
      "source": [
        "movie_train = movie_train.withColumn(\"idx\", F.monotonically_increasing_id())\n",
        "genre_mapped = temp.withColumn(\"idx\", F.monotonically_increasing_id())\n",
        "windowSpec = W.orderBy(\"idx\")\n",
        "movie_train  = movie_train .withColumn(\"idx\", F.row_number().over(windowSpec))\n",
        "genre_mapped = genre_mapped.withColumn(\"idx\", F.row_number().over(windowSpec))\n",
        "train_df = movie_train.join(genre_mapped, movie_train.idx == genre_mapped.idx).drop(\"idx\")\n",
        "train_df.show()"
      ],
      "execution_count": 10,
      "outputs": [
        {
          "output_type": "stream",
          "text": [
            "+--------+--------------------+--------------------+--------------------+-----+------+------------+--------+------+------------+-------------+------+---------------+-----+----------------+---------+-----------+----------+--------------+---------+-------+---------------+-------+---------------+\n",
            "|movie_id|          movie_name|                plot|               genre|Drama|Comedy|Romance Film|Thriller|Action|World cinema|Crime Fiction|Horror|Black-and-white|Indie|Action/Adventure|Adventure|Family Film|Short Film|Romantic drama|Animation|Musical|Science Fiction|Mystery|Romantic comedy|\n",
            "+--------+--------------------+--------------------+--------------------+-----+------+------------+--------+------+------------+-------------+------+---------------+-----+----------------+---------+-----------+----------+--------------+---------+-------+---------------+-------+---------------+\n",
            "|23890098|          Taxi Blues|Shlykov, a hard-w...|['World cinema', ...|    1|     0|           0|       0|     0|           1|            0|     0|              0|    0|               0|        0|          0|         0|             0|        0|      0|              0|      0|              0|\n",
            "|31186339|    The Hunger Games|The nation of Pan...|['Action/Adventur...|    1|     0|           0|       0|     1|           0|            0|     0|              0|    0|               1|        0|          0|         0|             0|        0|      0|              1|      0|              0|\n",
            "|20663735|          Narasimham|Poovalli Induchoo...|['Musical', 'Acti...|    1|     0|           0|       0|     1|           0|            0|     0|              0|    0|               0|        0|          0|         0|             0|        0|      1|              0|      0|              0|\n",
            "| 2231378|  The Lemon Drop Kid|The Lemon Drop Ki...|          ['Comedy']|    0|     1|           0|       0|     0|           0|            0|     0|              0|    0|               0|        0|          0|         0|             0|        0|      0|              0|      0|              0|\n",
            "|  595909|   A Cry in the Dark|Seventh-day Adven...|['Crime Fiction',...|    1|     0|           0|       0|     0|           1|            1|     0|              0|    0|               0|        0|          0|         0|             0|        0|      0|              0|      0|              0|\n",
            "| 5272176|            End Game|The president is ...|['Action/Adventur...|    1|     0|           0|       1|     1|           0|            0|     0|              0|    0|               1|        0|          0|         0|             0|        0|      0|              0|      0|              0|\n",
            "| 1952976|          Dark Water|{{plot}} The film...|['Thriller', 'Dra...|    1|     0|           0|       1|     0|           0|            0|     1|              0|    0|               0|        0|          0|         0|             0|        0|      0|              0|      0|              0|\n",
            "|24225279|                Sing|The story begins ...|           ['Drama']|    1|     0|           0|       0|     0|           0|            0|     0|              0|    0|               0|        0|          0|         0|             0|        0|      0|              0|      0|              0|\n",
            "| 2462689|       Meet John Doe|Infuriated at bei...|['Black-and-white...|    1|     1|           1|       0|     0|           0|            0|     0|              1|    0|               0|        0|          0|         0|             0|        0|      0|              0|      0|              1|\n",
            "|20532852|Destination Meatball|A line of people ...|['Animation', 'Sh...|    0|     0|           0|       0|     0|           0|            0|     0|              0|    0|               0|        0|          1|         1|             0|        1|      0|              0|      0|              0|\n",
            "|15401493|    Husband for Hire|Lola  attempts to...|          ['Comedy']|    0|     1|           0|       0|     0|           0|            0|     0|              0|    0|               0|        0|          0|         0|             0|        0|      0|              0|      0|              0|\n",
            "|18188932|         Up and Down|Milan and Goran a...|['Crime Fiction',...|    1|     1|           0|       0|     0|           1|            1|     0|              0|    0|               0|        0|          0|         0|             0|        0|      0|              0|      0|              0|\n",
            "| 2940516|Ghost In The Noon...|Bumbling pirate c...|          ['Comedy']|    0|     1|           0|       0|     0|           0|            0|     0|              0|    0|               0|        0|          0|         0|             0|        0|      0|              0|      0|              0|\n",
            "| 1480747|       House Party 2|{{plot}} Followin...|          ['Comedy']|    0|     1|           0|       0|     0|           0|            0|     0|              0|    0|               0|        0|          0|         0|             0|        0|      0|              0|      0|              0|\n",
            "|24448645|Forest of the Dam...|Despite Lucy's re...|          ['Horror']|    0|     0|           0|       0|     0|           0|            0|     1|              0|    0|               0|        0|          0|         0|             0|        0|      0|              0|      0|              0|\n",
            "|15072401|Charlie Chan's Se...|Alan Colby, heir ...|['Crime Fiction',...|    0|     0|           0|       1|     0|           0|            1|     1|              0|    0|               0|        0|          0|         0|             0|        0|      0|              0|      1|              0|\n",
            "| 4018288|     The Biggest Fan|Debbie's favorite...|           ['Drama']|    1|     0|           0|       0|     0|           0|            0|     0|              0|    0|               0|        0|          0|         0|             0|        0|      0|              0|      0|              0|\n",
            "| 4596602|      Ashes to Ashes|Ashes to Ashes is...|['Crime Fiction',...|    0|     0|           1|       1|     1|           0|            1|     0|              0|    1|               0|        0|          0|         0|             0|        0|      0|              0|      0|              0|\n",
            "|15224586|        Green Dragon|The film follows ...|  ['Indie', 'Drama']|    1|     0|           0|       0|     0|           0|            0|     0|              0|    1|               0|        0|          0|         0|             0|        0|      0|              0|      0|              0|\n",
            "|15585766|  The Rats of Tobruk|Three friends are...|           ['Drama']|    1|     0|           0|       0|     0|           0|            0|     0|              0|    0|               0|        0|          0|         0|             0|        0|      0|              0|      0|              0|\n",
            "+--------+--------------------+--------------------+--------------------+-----+------+------------+--------+------+------------+-------------+------+---------------+-----+----------------+---------+-----------+----------+--------------+---------+-------+---------------+-------+---------------+\n",
            "only showing top 20 rows\n",
            "\n"
          ],
          "name": "stdout"
        }
      ]
    },
    {
      "cell_type": "markdown",
      "metadata": {
        "id": "CBJ3b-uAigBx",
        "colab_type": "text"
      },
      "source": [
        "# **Data Cleaning : Tokenizing and StopWordRemoval**"
      ]
    },
    {
      "cell_type": "code",
      "metadata": {
        "id": "20JtOoKQOHGl",
        "colab_type": "code",
        "outputId": "1dc8421f-1e3b-4bac-fb35-c5433fa90e3f",
        "colab": {
          "base_uri": "https://localhost:8080/",
          "height": 468
        }
      },
      "source": [
        "df_clean = train_df.select('movie_id','plot')\n",
        "df_clean = df_clean.select('movie_id',(lower(regexp_replace('plot', \"[^a-zA-Z\\\\s]\", \"\")).alias('plot')))\n",
        "\n",
        "# Tokenize text\n",
        "tokenizer = Tokenizer(inputCol='plot', outputCol='tokens')\n",
        "df_clean = tokenizer.transform(df_clean).select('movie_id','tokens')\n",
        "\n",
        "# Remove stop words\n",
        "remover = StopWordsRemover(inputCol='tokens', outputCol='pro_plot')\n",
        "train_cleaned = remover.transform(df_clean).select('movie_id','pro_plot')\n",
        "\n",
        "train_cleaned.show()"
      ],
      "execution_count": 13,
      "outputs": [
        {
          "output_type": "stream",
          "text": [
            "+--------+--------------------+\n",
            "|movie_id|            pro_plot|\n",
            "+--------+--------------------+\n",
            "|23890098|[shlykov, hardwor...|\n",
            "|31186339|[nation, panem, c...|\n",
            "|20663735|[poovalli, induch...|\n",
            "| 2231378|[lemon, drop, kid...|\n",
            "|  595909|[seventhday, adve...|\n",
            "| 5272176|[president, way, ...|\n",
            "| 1952976|[plot, film, open...|\n",
            "|24225279|[story, begins, h...|\n",
            "| 2462689|[infuriated, told...|\n",
            "|20532852|[line, people, , ...|\n",
            "|15401493|[lola, , attempts...|\n",
            "|18188932|[milan, goran, tw...|\n",
            "| 2940516|[bumbling, pirate...|\n",
            "| 1480747|[plot, following,...|\n",
            "|24448645|[despite, lucys, ...|\n",
            "|15072401|[alan, colby, hei...|\n",
            "| 4018288|[debbies, favorit...|\n",
            "| 4596602|[ashes, ashes, se...|\n",
            "|15224586|[film, follows, e...|\n",
            "|15585766|[three, friends, ...|\n",
            "+--------+--------------------+\n",
            "only showing top 20 rows\n",
            "\n"
          ],
          "name": "stdout"
        }
      ]
    },
    {
      "cell_type": "code",
      "metadata": {
        "id": "-aexfWGR1P3v",
        "colab_type": "code",
        "outputId": "69efca2f-50ce-40a5-cad4-68551d45d768",
        "colab": {
          "base_uri": "https://localhost:8080/",
          "height": 468
        }
      },
      "source": [
        "test_df = movie_test.select('movie_id','plot')\n",
        "df_clean = test_df.select('movie_id',(lower(regexp_replace('plot', \"[^a-zA-Z\\\\s]\", \"\")).alias('plot')))\n",
        "\n",
        "# Tokenize text\n",
        "tokenizer = Tokenizer(inputCol='plot', outputCol='tokens')\n",
        "df_clean = tokenizer.transform(df_clean).select('movie_id','tokens')\n",
        "\n",
        "# Remove stop words\n",
        "remover = StopWordsRemover(inputCol='tokens', outputCol='pro_plot')\n",
        "test_cleaned = remover.transform(df_clean).select('movie_id','pro_plot')\n",
        "\n",
        "test_cleaned.show()"
      ],
      "execution_count": 14,
      "outputs": [
        {
          "output_type": "stream",
          "text": [
            "+--------+--------------------+\n",
            "|movie_id|            pro_plot|\n",
            "+--------+--------------------+\n",
            "| 1335380|[film, based, eve...|\n",
            "|29062594|[group, teenagers...|\n",
            "| 9252321|[story, zulu, fam...|\n",
            "|13455076|[stooges, play, t...|\n",
            "|24165951|[soldieroffortune...|\n",
            "| 1925869|[set, northwester...|\n",
            "|10799612|[like, many, moni...|\n",
            "|28238240|[mickey, scorpion...|\n",
            "|17124781|[desert, wilderne...|\n",
            "|28207941|[bimbo, koko, sig...|\n",
            "|19174305|[tahaan, , lives,...|\n",
            "|18392317|[betty, startled,...|\n",
            "|34420857|[nirmal, karthik,...|\n",
            "| 4039635|[group, journalis...|\n",
            "| 8034072|[vaibhavari, saha...|\n",
            "| 4016437|[, movies, narrat...|\n",
            "| 1520023|[ninja, resurrect...|\n",
            "|24589422|[spring, , ivan, ...|\n",
            "|35068740|[muthu, prabhu, ,...|\n",
            "|21132951|[vishwanathan, , ...|\n",
            "+--------+--------------------+\n",
            "only showing top 20 rows\n",
            "\n"
          ],
          "name": "stdout"
        }
      ]
    },
    {
      "cell_type": "markdown",
      "metadata": {
        "id": "9FpJBA8LGoIk",
        "colab_type": "text"
      },
      "source": [
        "# **Part-1**"
      ]
    },
    {
      "cell_type": "markdown",
      "metadata": {
        "id": "EYcJxR4TbfGt",
        "colab_type": "text"
      },
      "source": [
        "# **Term-Document Matrix**"
      ]
    },
    {
      "cell_type": "code",
      "metadata": {
        "id": "US49cvh7Yf-R",
        "colab_type": "code",
        "outputId": "ab48a918-1dfa-4862-8cf6-e7b8272f4c76",
        "colab": {
          "base_uri": "https://localhost:8080/",
          "height": 488
        }
      },
      "source": [
        "# On train data\n",
        "cv = CountVectorizer(inputCol=\"pro_plot\", outputCol=\"features1\", vocabSize=1000, minDF=30)\n",
        "model = cv.fit(train_cleaned)\n",
        "tdm = model.transform(train_cleaned)\n",
        "tdm_df = train_df.join(tdm.select('movie_id','features1'), on=['movie_id'])\n",
        "tdm_df.show()"
      ],
      "execution_count": 37,
      "outputs": [
        {
          "output_type": "stream",
          "text": [
            "+--------+--------------------+--------------------+--------------------+-----+------+------------+--------+------+------------+-------------+------+---------------+-----+----------------+---------+-----------+----------+--------------+---------+-------+---------------+-------+---------------+--------------------+\n",
            "|movie_id|          movie_name|                plot|               genre|Drama|Comedy|Romance Film|Thriller|Action|World cinema|Crime Fiction|Horror|Black-and-white|Indie|Action/Adventure|Adventure|Family Film|Short Film|Romantic drama|Animation|Musical|Science Fiction|Mystery|Romantic comedy|           features1|\n",
            "+--------+--------------------+--------------------+--------------------+-----+------+------------+--------+------+------------+-------------+------+---------------+-----+----------------+---------+-----------+----------+--------------+---------+-------+---------------+-------+---------------+--------------------+\n",
            "|     330|             Actrius|In order to prepa...|           ['Drama']|    1|     0|           0|       0|     0|           0|            0|     0|              0|    0|               0|        0|          0|         0|             0|        0|      0|              0|      0|              0|(1000,[0,60,69,12...|\n",
            "|    3217|    Army of Darkness|After being pulle...|['Action/Adventur...|    0|     1|           0|       0|     1|           0|            0|     1|              0|    0|               1|        0|          0|         0|             0|        0|      0|              0|      0|              0|(1000,[0,1,2,7,8,...|\n",
            "|    3837|     Blazing Saddles|In the American O...|          ['Comedy']|    0|     1|           0|       0|     0|           0|            0|     0|              0|    0|               0|        0|          0|         0|             0|        0|      0|              0|      0|              0|(1000,[0,1,2,4,9,...|\n",
            "|    3947|         Blue Velvet|Jeffrey Beaumont ...|['Crime Fiction',...|    0|     0|           0|       1|     0|           0|            1|     0|              0|    0|               0|        0|          0|         0|             0|        0|      0|              0|      1|              0|(1000,[0,3,4,5,6,...|\n",
            "|    4227|        Barry Lyndon| :By What Means R...|['Drama', 'Romanc...|    1|     0|           1|       0|     0|           0|            0|     0|              0|    0|               0|        0|          0|         0|             0|        0|      0|              0|      0|              0|(1000,[0,2,6,10,1...|\n",
            "|    4231|Buffy the Vampire...|Buffy Summers  is...|['Action', 'Comed...|    0|     1|           0|       0|     1|           0|            0|     1|              0|    0|               0|        0|          0|         0|             0|        0|      0|              0|      0|              0|(1000,[0,1,2,4,5,...|\n",
            "|    4560|          Braveheart|In the 13th centu...|['Action/Adventur...|    1|     0|           0|       0|     1|           0|            0|     0|              0|    0|               1|        1|          0|         0|             0|        0|      0|              0|      0|              0|(1000,[0,1,2,3,5,...|\n",
            "|    4727|              Batman|When Batman  and ...|['Action/Adventur...|    0|     1|           0|       0|     1|           0|            0|     0|              0|    0|               1|        0|          0|         0|             0|        0|      0|              0|      0|              0|(1000,[0,1,2,3,11...|\n",
            "|    4729|      Batman & Robin| In Gotham City, ...|['Crime Fiction',...|    0|     0|           0|       1|     1|           0|            1|     0|              0|    0|               1|        0|          0|         0|             0|        0|      0|              1|      0|              0|(1000,[0,2,5,9,15...|\n",
            "|    5224|        Citizen Kane|Charles Foster Ka...|['Black-and-white...|    1|     0|           0|       0|     0|           0|            0|     0|              1|    0|               0|        0|          0|         0|             0|        0|      0|              0|      1|              0|(1000,[0,4,7,8,9,...|\n",
            "|    5313|Crouching Tiger, ...|Li Mu Bai  is an ...|['Drama', 'Advent...|    1|     0|           1|       0|     1|           0|            0|     0|              0|    0|               0|        1|          0|         0|             0|        0|      0|              0|      0|              0|(1000,[0,1,2,3,5,...|\n",
            "|    5729|    Chariots of Fire|In 1919, Harold A...|           ['Drama']|    1|     0|           0|       0|     0|           0|            0|     0|              0|    0|               0|        0|          0|         0|             0|        0|      0|              0|      0|              0|(1000,[0,1,3,4,5,...|\n",
            "|    8481|     Dressed to Kill|Kate Miller is a ...|['Indie', 'Thrill...|    0|     0|           0|       1|     0|           0|            0|     1|              0|    1|               0|        0|          0|         0|             0|        0|      0|              0|      1|              0|(1000,[1,7,9,10,1...|\n",
            "|    8695|Dr. Strangelove o...| United States Ai...| ['Comedy', 'Drama']|    1|     1|           0|       0|     0|           0|            0|     0|              0|    0|               0|        0|          0|         0|             0|        0|      0|              0|      0|              0|(1000,[0,1,3,4,9,...|\n",
            "|    8994|            Das Boot|The story is told...|['Action', 'Thril...|    1|     0|           0|       1|     1|           1|            0|     0|              0|    0|               1|        0|          0|         0|             0|        0|      0|              0|      0|              0|(1000,[0,2,3,8,9,...|\n",
            "|    9429|  Young and Innocent| Christine Clay ,...|['Black-and-white...|    0|     0|           0|       1|     0|           0|            1|     0|              1|    0|               0|        0|          0|         0|             0|        0|      0|              0|      0|              0|(1000,[0,3,6,7,8,...|\n",
            "|    9835|Escape from New York|In a dystopian 19...|['Crime Fiction',...|    0|     0|           0|       1|     1|           0|            1|     0|              0|    1|               1|        0|          0|         0|             0|        0|      0|              1|      0|              0|(1000,[0,1,2,5,7,...|\n",
            "|    9979|      Eyes Wide Shut|Dr. Bill Harford ...|['Drama', 'Thrill...|    1|     0|           1|       1|     0|           0|            0|     0|              0|    0|               0|        0|          0|         0|             0|        0|      0|              0|      1|              0|(1000,[0,1,2,3,4,...|\n",
            "|   10193|    Enter the Dragon|Lee  is a Shaolin...|['Crime Fiction',...|    1|     0|           0|       1|     1|           0|            1|     0|              0|    0|               0|        0|          0|         0|             0|        0|      0|              0|      0|              0|(1000,[0,1,3,5,6,...|\n",
            "|   10487|        Evil Dead II|Ash Williams  and...|['Comedy', 'Horror']|    0|     1|           0|       0|     0|           0|            0|     1|              0|    0|               0|        0|          0|         0|             0|        0|      0|              0|      0|              0|(1000,[0,1,2,3,6,...|\n",
            "+--------+--------------------+--------------------+--------------------+-----+------+------------+--------+------+------------+-------------+------+---------------+-----+----------------+---------+-----------+----------+--------------+---------+-------+---------------+-------+---------------+--------------------+\n",
            "only showing top 20 rows\n",
            "\n"
          ],
          "name": "stdout"
        }
      ]
    },
    {
      "cell_type": "code",
      "metadata": {
        "id": "symXHo6W078k",
        "colab_type": "code",
        "outputId": "0584e3d0-d4b1-4aa7-da7a-f7553df69956",
        "colab": {
          "base_uri": "https://localhost:8080/",
          "height": 468
        }
      },
      "source": [
        "# On test data\n",
        "cv = CountVectorizer(inputCol=\"pro_plot\", outputCol=\"features1\", vocabSize=1000, minDF=30)\n",
        "model = cv.fit(test_cleaned)\n",
        "tdm = model.transform(test_cleaned)\n",
        "tdm_df_test = tdm.join(movie_test.select('movie_id'), on=['movie_id'], how='inner').drop('pro_plot')\n",
        "tdm_df_test.show()"
      ],
      "execution_count": 38,
      "outputs": [
        {
          "output_type": "stream",
          "text": [
            "+--------+--------------------+\n",
            "|movie_id|           features1|\n",
            "+--------+--------------------+\n",
            "|   62693|(1000,[0,2,4,5,11...|\n",
            "|  296252|(1000,[0,1,2,3,4,...|\n",
            "| 1356971|(1000,[0,2,8,9,16...|\n",
            "| 1428872|(1000,[0,1,2,3,5,...|\n",
            "| 1582173|(1000,[0,13,15,21...|\n",
            "| 1595142|(1000,[0,1,2,3,4,...|\n",
            "| 1600825|(1000,[0,1,2,3,5,...|\n",
            "| 1681132|(1000,[0,1,2,3,4,...|\n",
            "| 2268290|(1000,[0,1,2,13,1...|\n",
            "| 3327607|(1000,[0,1,5,10,1...|\n",
            "| 3569957|(1000,[0,1,2,3,4,...|\n",
            "| 4413498|(1000,[0,2,4,7,11...|\n",
            "| 4635580|(1000,[0,1,6,10,1...|\n",
            "| 4950989|(1000,[0,1,2,17,1...|\n",
            "| 5565692|(1000,[0,2,10,11,...|\n",
            "| 7003785|(1000,[0,7,9,16,2...|\n",
            "| 8269287|(1000,[0,1,2,3,4,...|\n",
            "| 9560197|(1000,[0,2,5,8,13...|\n",
            "|10731337|(1000,[0,25,33,71...|\n",
            "|11192132|(1000,[4,15,16,21...|\n",
            "+--------+--------------------+\n",
            "only showing top 20 rows\n",
            "\n"
          ],
          "name": "stdout"
        }
      ]
    },
    {
      "cell_type": "markdown",
      "metadata": {
        "id": "eMMPxGKh5dJg",
        "colab_type": "text"
      },
      "source": [
        "# **Training and Testing Model by Logistic Regression with Term Document Matrix**"
      ]
    },
    {
      "cell_type": "markdown",
      "metadata": {
        "id": "TD3jVP0h5zSo",
        "colab_type": "text"
      },
      "source": [
        "**Applying 20 Binary Classfiers**"
      ]
    },
    {
      "cell_type": "code",
      "metadata": {
        "id": "J1MBBIUQDmzm",
        "colab_type": "code",
        "colab": {}
      },
      "source": [
        "predlist_1=[]\n",
        "for i in range(len(map_list)):\n",
        "  lr = LogisticRegression(featuresCol = 'features1', labelCol = names[i], maxIter=10,regParam=0.1)\n",
        "  lrModel = lr.fit(tdm_df)\n",
        "\n",
        "  predictions = lrModel.transform(tdm_df_test)\n",
        "  predictions=predictions.withColumn('prediction',F.col(\"prediction\").cast(IntegerType()))\n",
        "  predlist_1.append(predictions.select('movie_id','prediction'))"
      ],
      "execution_count": 0,
      "outputs": []
    },
    {
      "cell_type": "markdown",
      "metadata": {
        "id": "pfJ3J1av5sLy",
        "colab_type": "text"
      },
      "source": [
        "# **Combining Predictions from 20 Binary Classifiers**"
      ]
    },
    {
      "cell_type": "code",
      "metadata": {
        "id": "-TXpnYOIDm5n",
        "colab_type": "code",
        "colab": {}
      },
      "source": [
        "from functools import reduce\n",
        "dfs_new=[df.selectExpr('movie_id',f'prediction as prediction_{i}') for i, df in enumerate(predlist_1)]\n",
        "dfs_temp=reduce(lambda x,y:x.join(y,['movie_id'],how='full'),dfs_new)\n",
        "columns = ['prediction_%d' %i for i in range(len(predlist_1))]\n",
        "dfs_temp =dfs_temp.withColumn('predictions',concat_ws(\" \",*columns)).drop(*columns).toPandas().to_csv('sample1.csv',index=False,header=True)"
      ],
      "execution_count": 0,
      "outputs": []
    },
    {
      "cell_type": "code",
      "metadata": {
        "id": "7cBgawOVDidG",
        "colab_type": "code",
        "colab": {
          "base_uri": "https://localhost:8080/",
          "height": 415
        },
        "outputId": "0f094f6c-eb12-4e25-cfa4-ccd448558f23"
      },
      "source": [
        "out1 = pd.read_csv('sample1.csv')\n",
        "out1"
      ],
      "execution_count": 43,
      "outputs": [
        {
          "output_type": "execute_result",
          "data": {
            "text/html": [
              "<div>\n",
              "<style scoped>\n",
              "    .dataframe tbody tr th:only-of-type {\n",
              "        vertical-align: middle;\n",
              "    }\n",
              "\n",
              "    .dataframe tbody tr th {\n",
              "        vertical-align: top;\n",
              "    }\n",
              "\n",
              "    .dataframe thead th {\n",
              "        text-align: right;\n",
              "    }\n",
              "</style>\n",
              "<table border=\"1\" class=\"dataframe\">\n",
              "  <thead>\n",
              "    <tr style=\"text-align: right;\">\n",
              "      <th></th>\n",
              "      <th>movie_id</th>\n",
              "      <th>predictions</th>\n",
              "    </tr>\n",
              "  </thead>\n",
              "  <tbody>\n",
              "    <tr>\n",
              "      <th>0</th>\n",
              "      <td>62693</td>\n",
              "      <td>1 0 0 0 0 0 0 0 0 0 0 0 0 0 0 0 0 0 0 0</td>\n",
              "    </tr>\n",
              "    <tr>\n",
              "      <th>1</th>\n",
              "      <td>296252</td>\n",
              "      <td>1 1 1 1 0 1 1 0 0 1 0 0 0 0 1 0 0 0 0 1</td>\n",
              "    </tr>\n",
              "    <tr>\n",
              "      <th>2</th>\n",
              "      <td>1356971</td>\n",
              "      <td>1 0 0 0 0 0 0 0 0 0 0 0 0 0 0 0 0 0 0 0</td>\n",
              "    </tr>\n",
              "    <tr>\n",
              "      <th>3</th>\n",
              "      <td>1428872</td>\n",
              "      <td>1 0 0 0 0 0 0 0 0 0 0 0 0 0 0 0 0 0 0 0</td>\n",
              "    </tr>\n",
              "    <tr>\n",
              "      <th>4</th>\n",
              "      <td>1582173</td>\n",
              "      <td>1 0 0 0 0 0 0 0 0 0 0 0 0 0 0 0 0 0 0 0</td>\n",
              "    </tr>\n",
              "    <tr>\n",
              "      <th>...</th>\n",
              "      <td>...</td>\n",
              "      <td>...</td>\n",
              "    </tr>\n",
              "    <tr>\n",
              "      <th>7772</th>\n",
              "      <td>32032279</td>\n",
              "      <td>0 0 0 0 0 0 0 0 0 0 0 0 0 0 0 0 0 0 0 0</td>\n",
              "    </tr>\n",
              "    <tr>\n",
              "      <th>7773</th>\n",
              "      <td>33509716</td>\n",
              "      <td>1 0 0 0 0 0 0 0 0 0 0 0 0 0 0 0 0 0 0 0</td>\n",
              "    </tr>\n",
              "    <tr>\n",
              "      <th>7774</th>\n",
              "      <td>33645448</td>\n",
              "      <td>0 0 0 0 0 0 0 0 0 0 0 0 0 0 0 0 0 0 0 0</td>\n",
              "    </tr>\n",
              "    <tr>\n",
              "      <th>7775</th>\n",
              "      <td>34195696</td>\n",
              "      <td>0 1 0 0 0 0 0 0 0 0 0 0 0 0 0 0 0 0 0 0</td>\n",
              "    </tr>\n",
              "    <tr>\n",
              "      <th>7776</th>\n",
              "      <td>36025899</td>\n",
              "      <td>0 0 0 0 0 0 0 0 0 0 0 0 0 0 0 0 0 0 0 0</td>\n",
              "    </tr>\n",
              "  </tbody>\n",
              "</table>\n",
              "<p>7777 rows × 2 columns</p>\n",
              "</div>"
            ],
            "text/plain": [
              "      movie_id                              predictions\n",
              "0        62693  1 0 0 0 0 0 0 0 0 0 0 0 0 0 0 0 0 0 0 0\n",
              "1       296252  1 1 1 1 0 1 1 0 0 1 0 0 0 0 1 0 0 0 0 1\n",
              "2      1356971  1 0 0 0 0 0 0 0 0 0 0 0 0 0 0 0 0 0 0 0\n",
              "3      1428872  1 0 0 0 0 0 0 0 0 0 0 0 0 0 0 0 0 0 0 0\n",
              "4      1582173  1 0 0 0 0 0 0 0 0 0 0 0 0 0 0 0 0 0 0 0\n",
              "...        ...                                      ...\n",
              "7772  32032279  0 0 0 0 0 0 0 0 0 0 0 0 0 0 0 0 0 0 0 0\n",
              "7773  33509716  1 0 0 0 0 0 0 0 0 0 0 0 0 0 0 0 0 0 0 0\n",
              "7774  33645448  0 0 0 0 0 0 0 0 0 0 0 0 0 0 0 0 0 0 0 0\n",
              "7775  34195696  0 1 0 0 0 0 0 0 0 0 0 0 0 0 0 0 0 0 0 0\n",
              "7776  36025899  0 0 0 0 0 0 0 0 0 0 0 0 0 0 0 0 0 0 0 0\n",
              "\n",
              "[7777 rows x 2 columns]"
            ]
          },
          "metadata": {
            "tags": []
          },
          "execution_count": 43
        }
      ]
    },
    {
      "cell_type": "markdown",
      "metadata": {
        "id": "NSqmnyw_6ZfA",
        "colab_type": "text"
      },
      "source": [
        "# **Part-2**"
      ]
    },
    {
      "cell_type": "markdown",
      "metadata": {
        "id": "Su2ysLwvaveQ",
        "colab_type": "text"
      },
      "source": [
        "# **TF-IDF**"
      ]
    },
    {
      "cell_type": "code",
      "metadata": {
        "id": "rA97EEx8fQBZ",
        "colab_type": "code",
        "colab": {
          "base_uri": "https://localhost:8080/",
          "height": 488
        },
        "outputId": "994c639e-ce17-4a82-f407-4644b1e366c0"
      },
      "source": [
        "# On train data\n",
        "tfidf=train_cleaned.withColumn(\"pro_plot\", concat_ws(\",\", \"pro_plot\"))\n",
        "tfidf = (tfidf\n",
        "  .rdd\n",
        "  .map(lambda x : (x.movie_id,x.pro_plot.split(\",\")))\n",
        "  .toDF()\n",
        "  .withColumnRenamed(\"_1\",\"movie_id\")\n",
        "  .withColumnRenamed(\"_2\",\"features2\"))\n",
        "\n",
        "htf = MLHashingTF(inputCol=\"features2\", outputCol=\"tf\")\n",
        "tf = htf.transform(tfidf)\n",
        "idf = MLIDF(inputCol=\"tf\", outputCol=\"idf\")\n",
        "tfidf_df = idf.fit(tf).transform(tf)\n",
        "idf_df = train_df.join(tfidf_df.select('movie_id','idf'), on=['movie_id'])\n",
        "idf_df.show()"
      ],
      "execution_count": 44,
      "outputs": [
        {
          "output_type": "stream",
          "text": [
            "+--------+--------------------+--------------------+--------------------+-----+------+------------+--------+------+------------+-------------+------+---------------+-----+----------------+---------+-----------+----------+--------------+---------+-------+---------------+-------+---------------+--------------------+\n",
            "|movie_id|          movie_name|                plot|               genre|Drama|Comedy|Romance Film|Thriller|Action|World cinema|Crime Fiction|Horror|Black-and-white|Indie|Action/Adventure|Adventure|Family Film|Short Film|Romantic drama|Animation|Musical|Science Fiction|Mystery|Romantic comedy|                 idf|\n",
            "+--------+--------------------+--------------------+--------------------+-----+------+------------+--------+------+------------+-------------+------+---------------+-----+----------------+---------+-----------+----------+--------------+---------+-------+---------------+-------+---------------+--------------------+\n",
            "|   75264|The Night of the ...|The film is set i...|['Black-and-white...|    1|     0|           0|       1|     0|           0|            1|     0|              1|    0|               0|        0|          0|         0|             0|        0|      0|              0|      1|              0|(262144,[2219,420...|\n",
            "|   77605|  One Foot in Heaven|The film follows ...|['Black-and-white...|    1|     0|           0|       0|     0|           0|            0|     0|              1|    0|               0|        0|          0|         0|             0|        0|      0|              0|      0|              0|(262144,[4869,172...|\n",
            "|  133480|               Bugsy|Gangster Benjamin...|['Drama', 'Crime ...|    1|     0|           1|       0|     0|           0|            1|     0|              0|    0|               0|        0|          0|         0|             1|        0|      0|              0|      0|              0|(262144,[2326,251...|\n",
            "|  158982|     You've Got Mail|Kathleen Kelly  i...|['Comedy', 'Roman...|    0|     1|           1|       0|     0|           0|            0|     0|              0|    0|               0|        0|          0|         0|             0|        0|      0|              0|      0|              1|(262144,[1879,538...|\n",
            "|  226562|             Tin Cup|Roy \"Tin Cup\" McA...|['Drama', 'Comedy...|    1|     1|           1|       0|     0|           0|            0|     0|              0|    0|               0|        0|          0|         0|             0|        0|      0|              0|      0|              1|(262144,[571,2143...|\n",
            "|  290633|The Object of My ...|Social worker Nin...|['Drama', 'Comedy...|    1|     1|           1|       0|     0|           0|            0|     0|              0|    0|               0|        0|          0|         0|             0|        0|      0|              0|      0|              1|(262144,[1493,199...|\n",
            "|  309159|          Teheran 43|The movie is abou...|['Crime Fiction',...|    1|     0|           1|       1|     1|           0|            1|     0|              0|    0|               0|        0|          0|         0|             0|        0|      0|              0|      0|              0|(262144,[2710,428...|\n",
            "|  418252|      One-Eyed Jacks|Rio , his partner...|['Action/Adventure']|    0|     0|           0|       0|     0|           0|            0|     0|              0|    0|               1|        0|          0|         0|             0|        0|      0|              0|      0|              0|(262144,[5315,664...|\n",
            "|  613518|Win a Date with T...|The film opens wi...|['Comedy', 'Roman...|    0|     1|           1|       0|     0|           0|            0|     0|              0|    0|               0|        0|          0|         0|             0|        0|      0|              0|      0|              1|(262144,[2410,243...|\n",
            "|  685720|     The Last Tycoon|Monroe Stahr  is ...|['Drama', 'Romanc...|    1|     0|           1|       0|     0|           0|            0|     0|              0|    0|               0|        0|          0|         0|             1|        0|      0|              0|      0|              0|(262144,[4335,484...|\n",
            "|  872497|The Count of Mont...| Edmond Dantès an...|['Crime Fiction',...|    1|     0|           1|       1|     1|           0|            1|     0|              0|    0|               1|        1|          0|         0|             0|        0|      0|              0|      0|              0|(262144,[619,2525...|\n",
            "|  873469|Harold & Kumar Go...| Investment banke...|['Adventure', 'Co...|    0|     1|           0|       0|     0|           0|            0|     0|              0|    0|               0|        1|          0|         0|             0|        0|      0|              0|      0|              0|(262144,[1761,410...|\n",
            "|  876872|Addams Family Values|Gomez  and Mortic...|['Comedy', 'Famil...|    0|     1|           0|       0|     0|           0|            0|     0|              0|    0|               0|        0|          1|         0|             0|        0|      0|              0|      0|              0|(262144,[1029,144...|\n",
            "|  887025|           Wishcraft|A high school stu...|          ['Horror']|    0|     0|           0|       0|     0|           0|            0|     1|              0|    0|               0|        0|          0|         0|             0|        0|      0|              0|      0|              0|(262144,[5381,606...|\n",
            "| 1164646|   Iron Jawed Angels|The film begins a...|  ['Indie', 'Drama']|    1|     0|           0|       0|     0|           0|            0|     0|              0|    1|               0|        0|          0|         0|             0|        0|      0|              0|      0|              0|(262144,[1707,915...|\n",
            "| 1774803|Bridget Jones's D...|Bridget Jones  is...|['Drama', 'Comedy...|    1|     1|           1|       0|     0|           0|            0|     0|              0|    0|               0|        0|          0|         0|             0|        0|      0|              0|      0|              1|(262144,[14,211,2...|\n",
            "| 1981790|      The Naked City|The film opens at...|['Black-and-white...|    1|     0|           0|       1|     0|           0|            1|     0|              1|    0|               0|        0|          0|         0|             0|        0|      0|              0|      1|              0|(262144,[14,1807,...|\n",
            "| 2279610|            Gaslight|Alice Barlow  is ...|['Black-and-white...|    1|     0|           0|       1|     0|           0|            0|     0|              1|    0|               0|        0|          0|         0|             0|        0|      0|              0|      1|              0|(262144,[3924,606...|\n",
            "| 2305752|    The Players Club|Diana Armstrong ,...| ['Comedy', 'Drama']|    1|     1|           0|       0|     0|           0|            0|     0|              0|    0|               0|        0|          0|         0|             0|        0|      0|              0|      0|              0|(262144,[204,4596...|\n",
            "| 2439340|   Moving Violations|The film follows ...|          ['Comedy']|    0|     1|           0|       0|     0|           0|            0|     0|              0|    0|               0|        0|          0|         0|             0|        0|      0|              0|      0|              0|(262144,[5463,172...|\n",
            "+--------+--------------------+--------------------+--------------------+-----+------+------------+--------+------+------------+-------------+------+---------------+-----+----------------+---------+-----------+----------+--------------+---------+-------+---------------+-------+---------------+--------------------+\n",
            "only showing top 20 rows\n",
            "\n"
          ],
          "name": "stdout"
        }
      ]
    },
    {
      "cell_type": "code",
      "metadata": {
        "id": "AwXbTn3R99wV",
        "colab_type": "code",
        "colab": {
          "base_uri": "https://localhost:8080/",
          "height": 468
        },
        "outputId": "7cde0f0d-3119-475b-92ca-a8e481f8c8e2"
      },
      "source": [
        "# On test data\n",
        "tfidf=test_cleaned.withColumn(\"pro_plot\", concat_ws(\",\", \"pro_plot\"))\n",
        "tfidf = (tfidf\n",
        "  .rdd\n",
        "  .map(lambda x : (x.movie_id,x.pro_plot.split(\",\")))\n",
        "  .toDF()\n",
        "  .withColumnRenamed(\"_1\",\"movie_id\")\n",
        "  .withColumnRenamed(\"_2\",\"features2\"))\n",
        "\n",
        "htf = MLHashingTF(inputCol=\"features2\", outputCol=\"tf\")\n",
        "tf = htf.transform(tfidf)\n",
        "idf = MLIDF(inputCol=\"tf\", outputCol=\"idf\")\n",
        "tfidf_df = idf.fit(tf).transform(tf)\n",
        "idf_df_test = tfidf_df.join(movie_test.select('movie_id'), on=['movie_id']).drop('pro_plot','tf','features2')\n",
        "idf_df_test.show()"
      ],
      "execution_count": 45,
      "outputs": [
        {
          "output_type": "stream",
          "text": [
            "+--------+--------------------+\n",
            "|movie_id|                 idf|\n",
            "+--------+--------------------+\n",
            "|   62693|(262144,[1836,306...|\n",
            "|  296252|(262144,[170,571,...|\n",
            "| 1356971|(262144,[511,9129...|\n",
            "| 1428872|(262144,[86,5595,...|\n",
            "| 1582173|(262144,[1446,421...|\n",
            "| 1595142|(262144,[14,469,1...|\n",
            "| 1600825|(262144,[460,1836...|\n",
            "| 1681132|(262144,[991,1998...|\n",
            "| 2268290|(262144,[211,2910...|\n",
            "| 3327607|(262144,[5083,538...|\n",
            "| 3569957|(262144,[119,1076...|\n",
            "| 4413498|(262144,[3067,530...|\n",
            "| 4635580|(262144,[1998,392...|\n",
            "| 4950989|(262144,[535,1769...|\n",
            "| 5565692|(262144,[6446,141...|\n",
            "| 7003785|(262144,[2410,306...|\n",
            "| 8269287|(262144,[571,1613...|\n",
            "| 9560197|(262144,[329,1652...|\n",
            "|10731337|(262144,[1322,329...|\n",
            "|11192132|(262144,[5595,606...|\n",
            "+--------+--------------------+\n",
            "only showing top 20 rows\n",
            "\n"
          ],
          "name": "stdout"
        }
      ]
    },
    {
      "cell_type": "markdown",
      "metadata": {
        "id": "9LcUyavL-uSA",
        "colab_type": "text"
      },
      "source": [
        "# **Training and Testing Model by Logistic Regression with TF_IDF**"
      ]
    },
    {
      "cell_type": "code",
      "metadata": {
        "id": "zjgxiJWuCNsQ",
        "colab_type": "code",
        "colab": {}
      },
      "source": [
        "predlist_2=[]\n",
        "for i in range(len(map_list)):\n",
        "  lr = LogisticRegression(featuresCol = 'idf', labelCol = names[i], maxIter=10)\n",
        "  lrModel = lr.fit(idf_df)\n",
        "\n",
        "  predictions = lrModel.transform(idf_df_test)\n",
        "  predictions=predictions.withColumn('prediction',F.col(\"prediction\").cast(IntegerType()))\n",
        "  predlist_2.append(predictions.select('movie_id','prediction'))"
      ],
      "execution_count": 0,
      "outputs": []
    },
    {
      "cell_type": "code",
      "metadata": {
        "id": "3yOX3bmeDDv9",
        "colab_type": "code",
        "colab": {}
      },
      "source": [
        "from functools import reduce\n",
        "dfs_new=[df.selectExpr('movie_id',f'prediction as prediction_{i}') for i, df in enumerate(predlist_2)]\n",
        "dfs_temp=reduce(lambda x,y:x.join(y,['movie_id'],how='full'),dfs_new)\n",
        "columns = ['prediction_%d' %i for i in range(len(predlist_2))]\n",
        "dfs_temp =dfs_temp.withColumn('predictions',concat_ws(\" \",*columns)).drop(*columns).toPandas().to_csv('sample2.csv',index=False,header=True)"
      ],
      "execution_count": 0,
      "outputs": []
    },
    {
      "cell_type": "code",
      "metadata": {
        "id": "QxrQrfl4GA61",
        "colab_type": "code",
        "colab": {
          "base_uri": "https://localhost:8080/",
          "height": 415
        },
        "outputId": "36606ef3-e801-422e-ec1e-41e4835504ea"
      },
      "source": [
        "out2 = pd.read_csv('sample2.csv')\n",
        "out2"
      ],
      "execution_count": 56,
      "outputs": [
        {
          "output_type": "execute_result",
          "data": {
            "text/html": [
              "<div>\n",
              "<style scoped>\n",
              "    .dataframe tbody tr th:only-of-type {\n",
              "        vertical-align: middle;\n",
              "    }\n",
              "\n",
              "    .dataframe tbody tr th {\n",
              "        vertical-align: top;\n",
              "    }\n",
              "\n",
              "    .dataframe thead th {\n",
              "        text-align: right;\n",
              "    }\n",
              "</style>\n",
              "<table border=\"1\" class=\"dataframe\">\n",
              "  <thead>\n",
              "    <tr style=\"text-align: right;\">\n",
              "      <th></th>\n",
              "      <th>movie_id</th>\n",
              "      <th>predictions</th>\n",
              "    </tr>\n",
              "  </thead>\n",
              "  <tbody>\n",
              "    <tr>\n",
              "      <th>0</th>\n",
              "      <td>62693</td>\n",
              "      <td>1 0 0 0 0 0 0 0 0 0 0 1 0 0 0 0 0 0 0 0</td>\n",
              "    </tr>\n",
              "    <tr>\n",
              "      <th>1</th>\n",
              "      <td>296252</td>\n",
              "      <td>1 0 0 0 0 0 0 0 0 1 0 0 0 0 0 0 0 0 0 0</td>\n",
              "    </tr>\n",
              "    <tr>\n",
              "      <th>2</th>\n",
              "      <td>1356971</td>\n",
              "      <td>1 1 1 0 0 0 0 0 0 0 0 0 0 0 0 0 0 0 0 0</td>\n",
              "    </tr>\n",
              "    <tr>\n",
              "      <th>3</th>\n",
              "      <td>1428872</td>\n",
              "      <td>0 0 0 1 0 0 0 0 0 0 0 0 0 0 0 0 0 0 0 0</td>\n",
              "    </tr>\n",
              "    <tr>\n",
              "      <th>4</th>\n",
              "      <td>1582173</td>\n",
              "      <td>0 0 0 0 0 0 0 0 0 0 0 0 0 0 0 0 0 1 0 0</td>\n",
              "    </tr>\n",
              "    <tr>\n",
              "      <th>...</th>\n",
              "      <td>...</td>\n",
              "      <td>...</td>\n",
              "    </tr>\n",
              "    <tr>\n",
              "      <th>7772</th>\n",
              "      <td>32032279</td>\n",
              "      <td>1 0 0 0 0 0 0 0 0 0 0 0 0 0 0 0 0 0 0 0</td>\n",
              "    </tr>\n",
              "    <tr>\n",
              "      <th>7773</th>\n",
              "      <td>33509716</td>\n",
              "      <td>1 0 0 1 0 0 1 0 0 0 0 0 0 0 0 0 0 0 0 0</td>\n",
              "    </tr>\n",
              "    <tr>\n",
              "      <th>7774</th>\n",
              "      <td>33645448</td>\n",
              "      <td>0 0 0 0 0 0 0 1 0 0 0 0 0 0 0 0 0 0 0 0</td>\n",
              "    </tr>\n",
              "    <tr>\n",
              "      <th>7775</th>\n",
              "      <td>34195696</td>\n",
              "      <td>0 0 0 0 0 0 0 1 0 0 0 0 0 0 0 0 0 0 0 0</td>\n",
              "    </tr>\n",
              "    <tr>\n",
              "      <th>7776</th>\n",
              "      <td>36025899</td>\n",
              "      <td>0 0 0 0 0 0 0 0 0 0 0 0 0 0 0 0 0 0 0 0</td>\n",
              "    </tr>\n",
              "  </tbody>\n",
              "</table>\n",
              "<p>7777 rows × 2 columns</p>\n",
              "</div>"
            ],
            "text/plain": [
              "      movie_id                              predictions\n",
              "0        62693  1 0 0 0 0 0 0 0 0 0 0 1 0 0 0 0 0 0 0 0\n",
              "1       296252  1 0 0 0 0 0 0 0 0 1 0 0 0 0 0 0 0 0 0 0\n",
              "2      1356971  1 1 1 0 0 0 0 0 0 0 0 0 0 0 0 0 0 0 0 0\n",
              "3      1428872  0 0 0 1 0 0 0 0 0 0 0 0 0 0 0 0 0 0 0 0\n",
              "4      1582173  0 0 0 0 0 0 0 0 0 0 0 0 0 0 0 0 0 1 0 0\n",
              "...        ...                                      ...\n",
              "7772  32032279  1 0 0 0 0 0 0 0 0 0 0 0 0 0 0 0 0 0 0 0\n",
              "7773  33509716  1 0 0 1 0 0 1 0 0 0 0 0 0 0 0 0 0 0 0 0\n",
              "7774  33645448  0 0 0 0 0 0 0 1 0 0 0 0 0 0 0 0 0 0 0 0\n",
              "7775  34195696  0 0 0 0 0 0 0 1 0 0 0 0 0 0 0 0 0 0 0 0\n",
              "7776  36025899  0 0 0 0 0 0 0 0 0 0 0 0 0 0 0 0 0 0 0 0\n",
              "\n",
              "[7777 rows x 2 columns]"
            ]
          },
          "metadata": {
            "tags": []
          },
          "execution_count": 56
        }
      ]
    },
    {
      "cell_type": "markdown",
      "metadata": {
        "id": "JMzzGgrH0a48",
        "colab_type": "text"
      },
      "source": [
        "# **Part-3**"
      ]
    },
    {
      "cell_type": "markdown",
      "metadata": {
        "id": "evC5UOSY6RH2",
        "colab_type": "text"
      },
      "source": [
        "# **Word2Vec**"
      ]
    },
    {
      "cell_type": "code",
      "metadata": {
        "id": "h9XffQP14Fu9",
        "colab_type": "code",
        "colab": {
          "base_uri": "https://localhost:8080/",
          "height": 488
        },
        "outputId": "a5262f02-f463-4022-d6e6-3568b88d27ab"
      },
      "source": [
        "# On train data\n",
        "word2vec = Word2Vec(vectorSize = 300, minCount = 10, inputCol = 'pro_plot', outputCol = 'features3')\n",
        "model = word2vec.fit(train_cleaned)\n",
        "wtov = model.transform(train_cleaned)\n",
        "wtov_df = train_df.join(wtov.select('movie_id','features3'), on=['movie_id'])\n",
        "wtov_df.show()"
      ],
      "execution_count": 15,
      "outputs": [
        {
          "output_type": "stream",
          "text": [
            "+--------+--------------------+--------------------+--------------------+-----+------+------------+--------+------+------------+-------------+------+---------------+-----+----------------+---------+-----------+----------+--------------+---------+-------+---------------+-------+---------------+--------------------+\n",
            "|movie_id|          movie_name|                plot|               genre|Drama|Comedy|Romance Film|Thriller|Action|World cinema|Crime Fiction|Horror|Black-and-white|Indie|Action/Adventure|Adventure|Family Film|Short Film|Romantic drama|Animation|Musical|Science Fiction|Mystery|Romantic comedy|           features3|\n",
            "+--------+--------------------+--------------------+--------------------+-----+------+------------+--------+------+------------+-------------+------+---------------+-----+----------------+---------+-----------+----------+--------------+---------+-------+---------------+-------+---------------+--------------------+\n",
            "|     330|             Actrius|In order to prepa...|           ['Drama']|    1|     0|           0|       0|     0|           0|            0|     0|              0|    0|               0|        0|          0|         0|             0|        0|      0|              0|      0|              0|[0.06660799267701...|\n",
            "|    3217|    Army of Darkness|After being pulle...|['Action/Adventur...|    0|     1|           0|       0|     1|           0|            0|     1|              0|    0|               1|        0|          0|         0|             0|        0|      0|              0|      0|              0|[-0.0208223319296...|\n",
            "|    3837|     Blazing Saddles|In the American O...|          ['Comedy']|    0|     1|           0|       0|     0|           0|            0|     0|              0|    0|               0|        0|          0|         0|             0|        0|      0|              0|      0|              0|[-0.0112375180823...|\n",
            "|    3947|         Blue Velvet|Jeffrey Beaumont ...|['Crime Fiction',...|    0|     0|           0|       1|     0|           0|            1|     0|              0|    0|               0|        0|          0|         0|             0|        0|      0|              0|      1|              0|[-0.0334683068476...|\n",
            "|    4227|        Barry Lyndon| :By What Means R...|['Drama', 'Romanc...|    1|     0|           1|       0|     0|           0|            0|     0|              0|    0|               0|        0|          0|         0|             0|        0|      0|              0|      0|              0|[0.02109551534268...|\n",
            "|    4231|Buffy the Vampire...|Buffy Summers  is...|['Action', 'Comed...|    0|     1|           0|       0|     1|           0|            0|     1|              0|    0|               0|        0|          0|         0|             0|        0|      0|              0|      0|              0|[-0.0142291449111...|\n",
            "|    4560|          Braveheart|In the 13th centu...|['Action/Adventur...|    1|     0|           0|       0|     1|           0|            0|     0|              0|    0|               1|        1|          0|         0|             0|        0|      0|              0|      0|              0|[0.02530581118933...|\n",
            "|    4727|              Batman|When Batman  and ...|['Action/Adventur...|    0|     1|           0|       0|     1|           0|            0|     0|              0|    0|               1|        0|          0|         0|             0|        0|      0|              0|      0|              0|[-0.0111435660963...|\n",
            "|    4729|      Batman & Robin| In Gotham City, ...|['Crime Fiction',...|    0|     0|           0|       1|     1|           0|            1|     0|              0|    0|               1|        0|          0|         0|             0|        0|      0|              1|      0|              0|[-0.0034546473967...|\n",
            "|    5224|        Citizen Kane|Charles Foster Ka...|['Black-and-white...|    1|     0|           0|       0|     0|           0|            0|     0|              1|    0|               0|        0|          0|         0|             0|        0|      0|              0|      1|              0|[0.02376626904567...|\n",
            "|    5313|Crouching Tiger, ...|Li Mu Bai  is an ...|['Drama', 'Advent...|    1|     0|           1|       0|     1|           0|            0|     0|              0|    0|               0|        1|          0|         0|             0|        0|      0|              0|      0|              0|[-0.0077419055916...|\n",
            "|    5729|    Chariots of Fire|In 1919, Harold A...|           ['Drama']|    1|     0|           0|       0|     0|           0|            0|     0|              0|    0|               0|        0|          0|         0|             0|        0|      0|              0|      0|              0|[0.00685366452638...|\n",
            "|    8481|     Dressed to Kill|Kate Miller is a ...|['Indie', 'Thrill...|    0|     0|           0|       1|     0|           0|            0|     1|              0|    1|               0|        0|          0|         0|             0|        0|      0|              0|      1|              0|[-0.0409135315961...|\n",
            "|    8695|Dr. Strangelove o...| United States Ai...| ['Comedy', 'Drama']|    1|     1|           0|       0|     0|           0|            0|     0|              0|    0|               0|        0|          0|         0|             0|        0|      0|              0|      0|              0|[-0.0048080004685...|\n",
            "|    8994|            Das Boot|The story is told...|['Action', 'Thril...|    1|     0|           0|       1|     1|           1|            0|     0|              0|    0|               1|        0|          0|         0|             0|        0|      0|              0|      0|              0|[-0.0272902397211...|\n",
            "|    9429|  Young and Innocent| Christine Clay ,...|['Black-and-white...|    0|     0|           0|       1|     0|           0|            1|     0|              1|    0|               0|        0|          0|         0|             0|        0|      0|              0|      0|              0|[-0.0242215694332...|\n",
            "|    9835|Escape from New York|In a dystopian 19...|['Crime Fiction',...|    0|     0|           0|       1|     1|           0|            1|     0|              0|    1|               1|        0|          0|         0|             0|        0|      0|              1|      0|              0|[-0.0387492887164...|\n",
            "|    9979|      Eyes Wide Shut|Dr. Bill Harford ...|['Drama', 'Thrill...|    1|     0|           1|       1|     0|           0|            0|     0|              0|    0|               0|        0|          0|         0|             0|        0|      0|              0|      1|              0|[-0.0104326297011...|\n",
            "|   10193|    Enter the Dragon|Lee  is a Shaolin...|['Crime Fiction',...|    1|     0|           0|       1|     1|           0|            1|     0|              0|    0|               0|        0|          0|         0|             0|        0|      0|              0|      0|              0|[-0.0015301805984...|\n",
            "|   10487|        Evil Dead II|Ash Williams  and...|['Comedy', 'Horror']|    0|     1|           0|       0|     0|           0|            0|     1|              0|    0|               0|        0|          0|         0|             0|        0|      0|              0|      0|              0|[-0.0252461617247...|\n",
            "+--------+--------------------+--------------------+--------------------+-----+------+------------+--------+------+------------+-------------+------+---------------+-----+----------------+---------+-----------+----------+--------------+---------+-------+---------------+-------+---------------+--------------------+\n",
            "only showing top 20 rows\n",
            "\n"
          ],
          "name": "stdout"
        }
      ]
    },
    {
      "cell_type": "code",
      "metadata": {
        "id": "v86OKfev9tOK",
        "colab_type": "code",
        "colab": {
          "base_uri": "https://localhost:8080/",
          "height": 468
        },
        "outputId": "7ee2770f-d674-4b9d-d8ce-441397cd8594"
      },
      "source": [
        "# On test data\n",
        "word2vec = Word2Vec(vectorSize = 300, minCount = 10, inputCol = 'pro_plot', outputCol = 'features3')\n",
        "model = word2vec.fit(test_cleaned)\n",
        "wtov = model.transform(test_cleaned)\n",
        "wtov_df_test = wtov.join(movie_test.select('movie_id'), on=['movie_id']).drop('pro_plot')\n",
        "wtov_df_test.show()"
      ],
      "execution_count": 17,
      "outputs": [
        {
          "output_type": "stream",
          "text": [
            "+--------+--------------------+\n",
            "|movie_id|           features3|\n",
            "+--------+--------------------+\n",
            "|   62693|[-0.0079939511846...|\n",
            "|  296252|[-1.4927848791384...|\n",
            "| 1356971|[-0.0261648152067...|\n",
            "| 1428872|[-0.0159300268285...|\n",
            "| 1582173|[-7.2602411646152...|\n",
            "| 1595142|[-0.0176014661049...|\n",
            "| 1600825|[-0.0030873266397...|\n",
            "| 1681132|[0.00468130292569...|\n",
            "| 2268290|[-0.0055558304249...|\n",
            "| 3327607|[-0.0145524695582...|\n",
            "| 3569957|[-0.0177347661248...|\n",
            "| 4413498|[-3.1717733524620...|\n",
            "| 4635580|[-0.0294743645623...|\n",
            "| 4950989|[-0.0231792936837...|\n",
            "| 5565692|[-0.0025541719253...|\n",
            "| 7003785|[0.00933833959861...|\n",
            "| 8269287|[-0.0056277224013...|\n",
            "| 9560197|[-0.0035379482192...|\n",
            "|10731337|[-0.0152597736673...|\n",
            "|11192132|[-0.0121372614042...|\n",
            "+--------+--------------------+\n",
            "only showing top 20 rows\n",
            "\n"
          ],
          "name": "stdout"
        }
      ]
    },
    {
      "cell_type": "markdown",
      "metadata": {
        "id": "jUcDcucJGHUt",
        "colab_type": "text"
      },
      "source": [
        "# **Training and Testing Model by Logistic Regression with word2vec**"
      ]
    },
    {
      "cell_type": "code",
      "metadata": {
        "id": "kfVxUkMW_KTS",
        "colab_type": "code",
        "colab": {}
      },
      "source": [
        "predlist_3=[]\n",
        "for i in range(len(map_list)):\n",
        "  lr = LogisticRegression(featuresCol = 'features3', labelCol = names[i], maxIter=20,regParam=0.1)\n",
        "  lrModel = lr.fit(wtov_df)\n",
        "\n",
        "  predictions = lrModel.transform(wtov_df_test)\n",
        "  predictions=predictions.withColumn('prediction',F.col(\"prediction\").cast(IntegerType()))\n",
        "  predlist_3.append(predictions.select('movie_id','prediction'))"
      ],
      "execution_count": 0,
      "outputs": []
    },
    {
      "cell_type": "code",
      "metadata": {
        "id": "XN7alSZh__ci",
        "colab_type": "code",
        "colab": {}
      },
      "source": [
        "from functools import reduce\n",
        "dfs_new=[df.selectExpr('movie_id',f'prediction as prediction_{i}') for i, df in enumerate(predlist_3)]\n",
        "dfs_temp=reduce(lambda x,y:x.join(y,['movie_id'],how='full'),dfs_new)\n",
        "columns = ['prediction_%d' %i for i in range(len(predlist_3))]\n",
        "dfs_temp =dfs_temp.withColumn('predictions',concat_ws(\" \",*columns)).drop(*columns).toPandas().to_csv('sample3.csv',index=False,header=True)"
      ],
      "execution_count": 0,
      "outputs": []
    },
    {
      "cell_type": "code",
      "metadata": {
        "id": "PVJXwDjcF4bT",
        "colab_type": "code",
        "colab": {
          "base_uri": "https://localhost:8080/",
          "height": 415
        },
        "outputId": "f0b2075c-5fd2-4210-8e8a-58895b2410ad"
      },
      "source": [
        "out3 = pd.read_csv('sample3.csv')\n",
        "out3"
      ],
      "execution_count": 28,
      "outputs": [
        {
          "output_type": "execute_result",
          "data": {
            "text/html": [
              "<div>\n",
              "<style scoped>\n",
              "    .dataframe tbody tr th:only-of-type {\n",
              "        vertical-align: middle;\n",
              "    }\n",
              "\n",
              "    .dataframe tbody tr th {\n",
              "        vertical-align: top;\n",
              "    }\n",
              "\n",
              "    .dataframe thead th {\n",
              "        text-align: right;\n",
              "    }\n",
              "</style>\n",
              "<table border=\"1\" class=\"dataframe\">\n",
              "  <thead>\n",
              "    <tr style=\"text-align: right;\">\n",
              "      <th></th>\n",
              "      <th>movie_id</th>\n",
              "      <th>predictions</th>\n",
              "    </tr>\n",
              "  </thead>\n",
              "  <tbody>\n",
              "    <tr>\n",
              "      <th>0</th>\n",
              "      <td>62693</td>\n",
              "      <td>0 0 0 0 0 0 0 0 0 0 0 0 0 0 0 0 0 0 0 0</td>\n",
              "    </tr>\n",
              "    <tr>\n",
              "      <th>1</th>\n",
              "      <td>296252</td>\n",
              "      <td>0 0 0 0 0 0 0 0 0 0 0 0 0 0 0 0 0 0 0 0</td>\n",
              "    </tr>\n",
              "    <tr>\n",
              "      <th>2</th>\n",
              "      <td>1356971</td>\n",
              "      <td>1 0 0 0 0 0 0 0 0 0 0 0 0 0 0 0 0 0 0 0</td>\n",
              "    </tr>\n",
              "    <tr>\n",
              "      <th>3</th>\n",
              "      <td>1428872</td>\n",
              "      <td>1 0 0 0 0 0 0 0 0 0 0 0 0 0 0 0 0 0 0 0</td>\n",
              "    </tr>\n",
              "    <tr>\n",
              "      <th>4</th>\n",
              "      <td>1582173</td>\n",
              "      <td>0 0 0 0 0 0 0 0 0 0 0 0 0 0 0 0 0 0 0 0</td>\n",
              "    </tr>\n",
              "    <tr>\n",
              "      <th>...</th>\n",
              "      <td>...</td>\n",
              "      <td>...</td>\n",
              "    </tr>\n",
              "    <tr>\n",
              "      <th>7772</th>\n",
              "      <td>32032279</td>\n",
              "      <td>1 0 0 0 0 0 0 0 0 0 0 0 0 0 0 0 0 0 0 0</td>\n",
              "    </tr>\n",
              "    <tr>\n",
              "      <th>7773</th>\n",
              "      <td>33509716</td>\n",
              "      <td>1 0 0 0 0 0 0 0 0 0 0 0 0 0 0 0 0 0 0 0</td>\n",
              "    </tr>\n",
              "    <tr>\n",
              "      <th>7774</th>\n",
              "      <td>33645448</td>\n",
              "      <td>1 0 0 0 0 0 0 0 0 0 0 0 0 0 0 0 0 0 0 0</td>\n",
              "    </tr>\n",
              "    <tr>\n",
              "      <th>7775</th>\n",
              "      <td>34195696</td>\n",
              "      <td>1 0 0 0 0 0 0 0 0 0 0 0 0 0 0 0 0 0 0 0</td>\n",
              "    </tr>\n",
              "    <tr>\n",
              "      <th>7776</th>\n",
              "      <td>36025899</td>\n",
              "      <td>1 0 0 0 0 0 0 0 0 0 0 0 0 0 0 0 0 0 0 0</td>\n",
              "    </tr>\n",
              "  </tbody>\n",
              "</table>\n",
              "<p>7777 rows × 2 columns</p>\n",
              "</div>"
            ],
            "text/plain": [
              "      movie_id                              predictions\n",
              "0        62693  0 0 0 0 0 0 0 0 0 0 0 0 0 0 0 0 0 0 0 0\n",
              "1       296252  0 0 0 0 0 0 0 0 0 0 0 0 0 0 0 0 0 0 0 0\n",
              "2      1356971  1 0 0 0 0 0 0 0 0 0 0 0 0 0 0 0 0 0 0 0\n",
              "3      1428872  1 0 0 0 0 0 0 0 0 0 0 0 0 0 0 0 0 0 0 0\n",
              "4      1582173  0 0 0 0 0 0 0 0 0 0 0 0 0 0 0 0 0 0 0 0\n",
              "...        ...                                      ...\n",
              "7772  32032279  1 0 0 0 0 0 0 0 0 0 0 0 0 0 0 0 0 0 0 0\n",
              "7773  33509716  1 0 0 0 0 0 0 0 0 0 0 0 0 0 0 0 0 0 0 0\n",
              "7774  33645448  1 0 0 0 0 0 0 0 0 0 0 0 0 0 0 0 0 0 0 0\n",
              "7775  34195696  1 0 0 0 0 0 0 0 0 0 0 0 0 0 0 0 0 0 0 0\n",
              "7776  36025899  1 0 0 0 0 0 0 0 0 0 0 0 0 0 0 0 0 0 0 0\n",
              "\n",
              "[7777 rows x 2 columns]"
            ]
          },
          "metadata": {
            "tags": []
          },
          "execution_count": 28
        }
      ]
    }
  ]
}